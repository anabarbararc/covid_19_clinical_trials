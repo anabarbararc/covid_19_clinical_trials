{
 "cells": [
  {
   "cell_type": "markdown",
   "id": "b0ffcc86",
   "metadata": {},
   "source": [
    "# EDA Project: COVID-19 Clinical Trials"
   ]
  },
  {
   "cell_type": "markdown",
   "id": "cdd6372a",
   "metadata": {},
   "source": [
    "## Project\n",
    "This is a project on Exploratory Data Analysis on COVID-19 Clinical Trials using ClinicalTrials.gov dataset. \n",
    "\n",
    "## Dataset Description\n",
    "\n",
    "### Origin: [Kaggle](https://www.kaggle.com/parulpandey/covid19-clinical-trials-dataset)\n",
    "\n",
    "ClinicalTrials.gov is a database of privately and publicly funded clinical studies conducted around the world. It is maintained by the National Institute of Health. All data is publicly available and the site provides a direct download feature which makes it super easy to use relevant data for analysis.\n",
    "\n",
    "This dataset consists of clinical trials related to COVID 19 studies presented on the site.\n",
    "\n",
    "The dataset consists of XML files where each XML file corresponds to one study. The filename is the NCT number which a unique identifier of a study in ClinicalTrials repository. Additionally, a CSV file has also been provided, which might not have as much information as contained in the XML file, but does give sufficient information.\n",
    "\n",
    "\n",
    "### Acknowledgements\n",
    "\n",
    "ClinicalTrials.gov is a resource provided by the U.S. National Library of Medicine."
   ]
  },
  {
   "cell_type": "markdown",
   "id": "7fcd0a85",
   "metadata": {},
   "source": [
    "## Interventional study (clinical trial)\n",
    "A type of clinical study in which participants are assigned to groups that receive one or more intervention/treatment (or no intervention) so that researchers can evaluate the effects of the interventions on biomedical or health-related outcomes. The assignments are determined by the study's protocol. Participants may receive diagnostic, therapeutic, or other types of interventions."
   ]
  },
  {
   "cell_type": "markdown",
   "id": "b32f8048",
   "metadata": {},
   "source": [
    "## Investigation of data columns"
   ]
  },
  {
   "cell_type": "code",
   "execution_count": 391,
   "id": "0c6a3854",
   "metadata": {},
   "outputs": [],
   "source": [
    "import pandas as pd\n",
    "import numpy as np"
   ]
  },
  {
   "cell_type": "code",
   "execution_count": 392,
   "id": "ea6ba7b1",
   "metadata": {},
   "outputs": [
    {
     "data": {
      "text/plain": [
       "['Rank',\n",
       " 'NCT Number',\n",
       " 'Title',\n",
       " 'Acronym',\n",
       " 'Status',\n",
       " 'Study Results',\n",
       " 'Conditions',\n",
       " 'Interventions',\n",
       " 'Outcome Measures',\n",
       " 'Sponsor/Collaborators',\n",
       " 'Gender',\n",
       " 'Age',\n",
       " 'Phases',\n",
       " 'Enrollment',\n",
       " 'Funded Bys',\n",
       " 'Study Type',\n",
       " 'Study Designs',\n",
       " 'Other IDs',\n",
       " 'Start Date',\n",
       " 'Primary Completion Date',\n",
       " 'Completion Date',\n",
       " 'First Posted',\n",
       " 'Results First Posted',\n",
       " 'Last Update Posted',\n",
       " 'Locations',\n",
       " 'Study Documents',\n",
       " 'URL']"
      ]
     },
     "execution_count": 392,
     "metadata": {},
     "output_type": "execute_result"
    }
   ],
   "source": [
    "clinical_trials = pd.read_csv('data/COVID clinical trials.csv')\n",
    "clinical_trials.columns.tolist()"
   ]
  },
  {
   "cell_type": "markdown",
   "id": "105d2cfe",
   "metadata": {},
   "source": [
    "## What do they mean?\n",
    "I searched in the [clinical trials website](https://clinicaltrials.gov/ct2/about-studies/glossary) the definition of some of these variables.\n",
    "\n",
    "### NCT number\n",
    "A unique identification code given to each clinical study record registered on ClinicalTrials.gov. The format is \"NCT\" followed by an 8-digit number (for example, NCT00000419). Also called the ClinicalTrials.gov identifier.\n",
    "\n",
    "### Recruitment status\n",
    "Not yet recruiting: The study has not started recruiting participants.\n",
    "Recruiting: The study is currently recruiting participants.\n",
    "Enrolling by invitation: The study is selecting its participants from a population, or group of people, decided on by the researchers in advance. These studies are not open to everyone who meets the eligibility criteria but only to people in that particular population, who are specifically invited to participate.\n",
    "Active, not recruiting: The study is ongoing, and participants are receiving an intervention or being examined, but potential participants are not currently being recruited or enrolled.\n",
    "Suspended: The study has stopped early but may start again.\n",
    "Terminated: The study has stopped early and will not start again. Participants are no longer being examined or treated.\n",
    "Completed: The study has ended normally, and participants are no longer being examined or treated (that is, the last participant's last visit has occurred).\n",
    "Withdrawn: The study stopped early, before enrolling its first participant.\n",
    "Unknown: A study on ClinicalTrials.gov whose last known status was recruiting; not yet recruiting; or active, not recruiting but that has passed its completion date, and the status has not been last verified within the past 2 years.\n",
    "\n",
    "\n",
    "### Phase\n",
    "The stage of a clinical trial studying a drug or biological product, based on definitions developed by the U.S. Food and Drug Administration (FDA). The phase is based on the study's objective, the number of participants, and other characteristics. There are five phases: Early Phase 1 (formerly listed as Phase 0), Phase 1, Phase 2, Phase 3, and Phase 4. Not Applicable is used to describe trials without FDA-defined phases, including trials of devices or behavioral interventions.\n",
    "#### Phase 1\n",
    "A phase of research to describe clinical trials that focus on the safety of a drug. They are usually conducted with healthy volunteers, and the goal is to determine the drug's most frequent and serious adverse events and, often, how the drug is broken down and excreted by the body. These trials usually involve a small number of participants.\n",
    "#### Phase 2\n",
    "A phase of research to describe clinical trials that gather preliminary data on whether a drug works in people who have a certain condition/disease (that is, the drug's effectiveness). For example, participants receiving the drug may be compared to similar participants receiving a different treatment, usually an inactive substance (called a placebo) or a different drug. Safety continues to be evaluated, and short-term adverse events are studied.\n",
    "#### Phase 3\n",
    "A phase of research to describe clinical trials that gather more information about a drug's safety and effectiveness by studying different populations and different dosages and by using the drug in combination with other drugs. These studies typically involve more participants.\n",
    "#### Phase 4\n",
    "A phase of research to describe clinical trials occurring after FDA has approved a drug for marketing. They include postmarket requirement and commitment studies that are required of or agreed to by the study sponsor. These trials gather additional information about a drug's safety, efficacy, or optimal use.\n",
    "Phase Not Applicable\n",
    "Describes trials without FDA-defined phases, including trials of devices or behavioral interventions.\n",
    "\n",
    "### Enrollment\n",
    "The number of participants in a clinical study. The \"estimated\" enrollment is the target number of participants that the researchers need for the study.\n",
    "\n",
    "### Study type\n",
    "Describes the nature of a clinical study. Study types include interventional studies (also called clinical trials), observational studies (including patient registries), and expanded access.\n",
    "\n",
    "### Primary completion date\n",
    "The date on which the last participant in a clinical study was examined or received an intervention to collect final data for the primary outcome measure. Whether the clinical study ended according to the protocol or was terminated does not affect this date. For clinical studies with more than one primary outcome measure with different completion dates, this term refers to the date on which data collection is completed for all the primary outcome measures. The \"estimated\" primary completion date is the date that the researchers think will be the primary completion date for the study.\n",
    "\n",
    "### First posted\n",
    "The date on which the study record was first available on ClinicalTrials.gov after National Library of Medicine (NLM) quality control (QC) review has concluded. There is typically a delay of a few days between the date the study sponsor or investigator submitted the study record and the first posted date.\n",
    "\n",
    "### Results first posted\n",
    "The date on which summary results information was first available on ClinicalTrials.gov after National Library of Medicine (NLM) quality control (QC) review has concluded. There is typically a delay between the date the study sponsor or investigator first submits summary results information (the results first submitted date) and the results first posted date. Some results information may be available at an earlier date if Results First Posted with QC Comments.\n",
    "\n",
    "### Last update posted\n",
    "The most recent date on which changes to a study record were made available on ClinicalTrials.gov.\n",
    "\n",
    "### Location\n",
    "Locations of the clinical studies."
   ]
  },
  {
   "cell_type": "code",
   "execution_count": 393,
   "id": "5b4b3b56",
   "metadata": {},
   "outputs": [
    {
     "data": {
      "text/plain": [
       "(5783, 27)"
      ]
     },
     "execution_count": 393,
     "metadata": {},
     "output_type": "execute_result"
    }
   ],
   "source": [
    "clinical_trials.head()\n",
    "clinical_trials.shape"
   ]
  },
  {
   "cell_type": "markdown",
   "id": "93f1f797",
   "metadata": {},
   "source": [
    "For these exploratory analisys I decided to keep the following columns:\n",
    "\n",
    "| Parameter | Short Description | Type |\n",
    "| --- | --- | --- |\n",
    "| *'NCT Number'* | unique ID | ID |\n",
    "| *'Status'* | recruitment status | categorical |\n",
    "| *'Study Results'* | clinical trial has results or not | categorial | \n",
    "| *'Gender'* | gender information of the enrolled participans | categorical |\n",
    "| *'Age'* | age range of the enrolled participants |  categorical |\n",
    "| *'Phases'* | clinical trial phase | categorical |\n",
    "| *'Enrollment'* | number of enrolled participants | quantitative |\n",
    "| *'Funded Bys'* | funding intitutions | categorical |\n",
    "| *'Study Type'* | study type | categorical |\n",
    "| *'Start Date'* | start date of the clinical trial | quatitative |\n",
    "| *'Primary Completion Date'* | date on which the last participant in a clinical study was examined | quatitative |\n",
    "| *'Completion Date'* | date the study is completed | quatitative | \n",
    "| *'First Posted'* |  date on which the study record was first available on ClinicalTrials.gov | quatitative |\n",
    "| *'Results First Posted'* | date on which summary results information was first available on ClinicalTrials.gov |  quatitative |\n",
    "| *'Last Update Posted'* |  most recent date on which changes to a study record were made available on ClinicalTrials.gov | quatitative |\n",
    "|*'Locations'* | location of the clinical studies | categorical |\n"
   ]
  },
  {
   "cell_type": "code",
   "execution_count": 394,
   "id": "980a7a7d",
   "metadata": {},
   "outputs": [],
   "source": [
    "columns = ['NCT Number',\n",
    " 'Status',\n",
    " 'Study Results',\n",
    " 'Gender',\n",
    " 'Age',\n",
    " 'Phases',\n",
    " 'Enrollment',\n",
    " 'Study Type',\n",
    " 'Start Date',\n",
    " 'Primary Completion Date',\n",
    " 'Completion Date',\n",
    " 'First Posted',\n",
    " 'Results First Posted',\n",
    " 'Last Update Posted',\n",
    " 'Locations']"
   ]
  },
  {
   "cell_type": "code",
   "execution_count": 395,
   "id": "d23a4824",
   "metadata": {},
   "outputs": [],
   "source": [
    "clinical_trials_reduced = clinical_trials[columns]"
   ]
  },
  {
   "cell_type": "code",
   "execution_count": 396,
   "id": "028d6abb",
   "metadata": {},
   "outputs": [
    {
     "data": {
      "text/html": [
       "<div>\n",
       "<style scoped>\n",
       "    .dataframe tbody tr th:only-of-type {\n",
       "        vertical-align: middle;\n",
       "    }\n",
       "\n",
       "    .dataframe tbody tr th {\n",
       "        vertical-align: top;\n",
       "    }\n",
       "\n",
       "    .dataframe thead th {\n",
       "        text-align: right;\n",
       "    }\n",
       "</style>\n",
       "<table border=\"1\" class=\"dataframe\">\n",
       "  <thead>\n",
       "    <tr style=\"text-align: right;\">\n",
       "      <th></th>\n",
       "      <th>NCT Number</th>\n",
       "      <th>Status</th>\n",
       "      <th>Study Results</th>\n",
       "      <th>Gender</th>\n",
       "      <th>Age</th>\n",
       "      <th>Phases</th>\n",
       "      <th>Enrollment</th>\n",
       "      <th>Study Type</th>\n",
       "      <th>Start Date</th>\n",
       "      <th>Primary Completion Date</th>\n",
       "      <th>Completion Date</th>\n",
       "      <th>First Posted</th>\n",
       "      <th>Results First Posted</th>\n",
       "      <th>Last Update Posted</th>\n",
       "      <th>Locations</th>\n",
       "    </tr>\n",
       "  </thead>\n",
       "  <tbody>\n",
       "    <tr>\n",
       "      <th>0</th>\n",
       "      <td>NCT04785898</td>\n",
       "      <td>Active, not recruiting</td>\n",
       "      <td>No Results Available</td>\n",
       "      <td>All</td>\n",
       "      <td>18 Years and older   (Adult, Older Adult)</td>\n",
       "      <td>Not Applicable</td>\n",
       "      <td>1000.0</td>\n",
       "      <td>Interventional</td>\n",
       "      <td>November 9, 2020</td>\n",
       "      <td>December 22, 2020</td>\n",
       "      <td>April 30, 2021</td>\n",
       "      <td>March 8, 2021</td>\n",
       "      <td>NaN</td>\n",
       "      <td>March 8, 2021</td>\n",
       "      <td>Groupe Hospitalier Paris Saint-Joseph, Paris, ...</td>\n",
       "    </tr>\n",
       "    <tr>\n",
       "      <th>1</th>\n",
       "      <td>NCT04595136</td>\n",
       "      <td>Not yet recruiting</td>\n",
       "      <td>No Results Available</td>\n",
       "      <td>All</td>\n",
       "      <td>18 Years and older   (Adult, Older Adult)</td>\n",
       "      <td>Phase 1|Phase 2</td>\n",
       "      <td>60.0</td>\n",
       "      <td>Interventional</td>\n",
       "      <td>November 2, 2020</td>\n",
       "      <td>December 15, 2020</td>\n",
       "      <td>January 29, 2021</td>\n",
       "      <td>October 20, 2020</td>\n",
       "      <td>NaN</td>\n",
       "      <td>October 20, 2020</td>\n",
       "      <td>Cimedical, Barranquilla, Atlantico, Colombia</td>\n",
       "    </tr>\n",
       "    <tr>\n",
       "      <th>2</th>\n",
       "      <td>NCT04395482</td>\n",
       "      <td>Recruiting</td>\n",
       "      <td>No Results Available</td>\n",
       "      <td>All</td>\n",
       "      <td>18 Years and older   (Adult, Older Adult)</td>\n",
       "      <td>NaN</td>\n",
       "      <td>500.0</td>\n",
       "      <td>Observational</td>\n",
       "      <td>May 7, 2020</td>\n",
       "      <td>June 15, 2021</td>\n",
       "      <td>June 15, 2021</td>\n",
       "      <td>May 20, 2020</td>\n",
       "      <td>NaN</td>\n",
       "      <td>November 9, 2020</td>\n",
       "      <td>Ospedale Papa Giovanni XXIII, Bergamo, Italy|P...</td>\n",
       "    </tr>\n",
       "    <tr>\n",
       "      <th>3</th>\n",
       "      <td>NCT04416061</td>\n",
       "      <td>Active, not recruiting</td>\n",
       "      <td>No Results Available</td>\n",
       "      <td>All</td>\n",
       "      <td>Child, Adult, Older Adult</td>\n",
       "      <td>NaN</td>\n",
       "      <td>2500.0</td>\n",
       "      <td>Observational</td>\n",
       "      <td>May 25, 2020</td>\n",
       "      <td>July 31, 2020</td>\n",
       "      <td>August 31, 2020</td>\n",
       "      <td>June 4, 2020</td>\n",
       "      <td>NaN</td>\n",
       "      <td>June 4, 2020</td>\n",
       "      <td>Hong Kong Sanatorium &amp; Hospital, Hong Kong, Ho...</td>\n",
       "    </tr>\n",
       "    <tr>\n",
       "      <th>4</th>\n",
       "      <td>NCT04395924</td>\n",
       "      <td>Recruiting</td>\n",
       "      <td>No Results Available</td>\n",
       "      <td>Female</td>\n",
       "      <td>18 Years to 48 Years   (Adult)</td>\n",
       "      <td>NaN</td>\n",
       "      <td>50.0</td>\n",
       "      <td>Observational</td>\n",
       "      <td>May 5, 2020</td>\n",
       "      <td>May 2021</td>\n",
       "      <td>May 2021</td>\n",
       "      <td>May 20, 2020</td>\n",
       "      <td>NaN</td>\n",
       "      <td>June 4, 2020</td>\n",
       "      <td>CHR Orléans, Orléans, France</td>\n",
       "    </tr>\n",
       "  </tbody>\n",
       "</table>\n",
       "</div>"
      ],
      "text/plain": [
       "    NCT Number                  Status         Study Results  Gender  \\\n",
       "0  NCT04785898  Active, not recruiting  No Results Available     All   \n",
       "1  NCT04595136      Not yet recruiting  No Results Available     All   \n",
       "2  NCT04395482              Recruiting  No Results Available     All   \n",
       "3  NCT04416061  Active, not recruiting  No Results Available     All   \n",
       "4  NCT04395924              Recruiting  No Results Available  Female   \n",
       "\n",
       "                                         Age           Phases  Enrollment  \\\n",
       "0  18 Years and older   (Adult, Older Adult)   Not Applicable      1000.0   \n",
       "1  18 Years and older   (Adult, Older Adult)  Phase 1|Phase 2        60.0   \n",
       "2  18 Years and older   (Adult, Older Adult)              NaN       500.0   \n",
       "3                  Child, Adult, Older Adult              NaN      2500.0   \n",
       "4             18 Years to 48 Years   (Adult)              NaN        50.0   \n",
       "\n",
       "       Study Type        Start Date Primary Completion Date   Completion Date  \\\n",
       "0  Interventional  November 9, 2020       December 22, 2020    April 30, 2021   \n",
       "1  Interventional  November 2, 2020       December 15, 2020  January 29, 2021   \n",
       "2   Observational       May 7, 2020           June 15, 2021     June 15, 2021   \n",
       "3   Observational      May 25, 2020           July 31, 2020   August 31, 2020   \n",
       "4   Observational       May 5, 2020                May 2021          May 2021   \n",
       "\n",
       "       First Posted Results First Posted Last Update Posted  \\\n",
       "0     March 8, 2021                  NaN      March 8, 2021   \n",
       "1  October 20, 2020                  NaN   October 20, 2020   \n",
       "2      May 20, 2020                  NaN   November 9, 2020   \n",
       "3      June 4, 2020                  NaN       June 4, 2020   \n",
       "4      May 20, 2020                  NaN       June 4, 2020   \n",
       "\n",
       "                                           Locations  \n",
       "0  Groupe Hospitalier Paris Saint-Joseph, Paris, ...  \n",
       "1       Cimedical, Barranquilla, Atlantico, Colombia  \n",
       "2  Ospedale Papa Giovanni XXIII, Bergamo, Italy|P...  \n",
       "3  Hong Kong Sanatorium & Hospital, Hong Kong, Ho...  \n",
       "4                       CHR Orléans, Orléans, France  "
      ]
     },
     "execution_count": 396,
     "metadata": {},
     "output_type": "execute_result"
    }
   ],
   "source": [
    "clinical_trials_reduced.head()"
   ]
  },
  {
   "cell_type": "code",
   "execution_count": 397,
   "id": "87e8a1ee",
   "metadata": {},
   "outputs": [
    {
     "data": {
      "text/plain": [
       "NCT Number                  object\n",
       "Status                      object\n",
       "Study Results               object\n",
       "Gender                      object\n",
       "Age                         object\n",
       "Phases                      object\n",
       "Enrollment                 float64\n",
       "Study Type                  object\n",
       "Start Date                  object\n",
       "Primary Completion Date     object\n",
       "Completion Date             object\n",
       "First Posted                object\n",
       "Results First Posted        object\n",
       "Last Update Posted          object\n",
       "Locations                   object\n",
       "dtype: object"
      ]
     },
     "execution_count": 397,
     "metadata": {},
     "output_type": "execute_result"
    }
   ],
   "source": [
    "clinical_trials_reduced.dtypes"
   ]
  },
  {
   "cell_type": "markdown",
   "id": "cfbab293",
   "metadata": {},
   "source": [
    "## Transforming date columns in datetime\n",
    "- Checking date differences: how long does a trial takes?\n",
    "- Does it depend on the number of participants?"
   ]
  },
  {
   "cell_type": "code",
   "execution_count": 398,
   "id": "d9204519",
   "metadata": {},
   "outputs": [
    {
     "name": "stderr",
     "output_type": "stream",
     "text": [
      "/opt/anaconda3/lib/python3.8/site-packages/pandas/core/indexing.py:1884: SettingWithCopyWarning: \n",
      "A value is trying to be set on a copy of a slice from a DataFrame.\n",
      "Try using .loc[row_indexer,col_indexer] = value instead\n",
      "\n",
      "See the caveats in the documentation: https://pandas.pydata.org/pandas-docs/stable/user_guide/indexing.html#returning-a-view-versus-a-copy\n",
      "  self._setitem_single_column(loc, val, pi)\n"
     ]
    }
   ],
   "source": [
    "date_columns = ['Start Date', 'Primary Completion Date','Completion Date','First Posted','Results First Posted', 'Last Update Posted']\n",
    "clinical_trials_reduced.loc[:, date_columns] = clinical_trials_reduced.loc[:, date_columns].apply(pd.to_datetime, errors='coerce')"
   ]
  },
  {
   "cell_type": "code",
   "execution_count": 399,
   "id": "54015c5e",
   "metadata": {},
   "outputs": [
    {
     "data": {
      "text/plain": [
       "NCT Number                         object\n",
       "Status                             object\n",
       "Study Results                      object\n",
       "Gender                             object\n",
       "Age                                object\n",
       "Phases                             object\n",
       "Enrollment                        float64\n",
       "Study Type                         object\n",
       "Start Date                 datetime64[ns]\n",
       "Primary Completion Date    datetime64[ns]\n",
       "Completion Date            datetime64[ns]\n",
       "First Posted               datetime64[ns]\n",
       "Results First Posted       datetime64[ns]\n",
       "Last Update Posted         datetime64[ns]\n",
       "Locations                          object\n",
       "dtype: object"
      ]
     },
     "execution_count": 399,
     "metadata": {},
     "output_type": "execute_result"
    }
   ],
   "source": [
    "clinical_trials_reduced.dtypes"
   ]
  },
  {
   "cell_type": "markdown",
   "id": "fc050660",
   "metadata": {},
   "source": [
    "## Checklist for treating data\n",
    "## 1. Checking nan values"
   ]
  },
  {
   "cell_type": "code",
   "execution_count": 400,
   "id": "5a99ef97",
   "metadata": {},
   "outputs": [
    {
     "data": {
      "text/plain": [
       "NCT Number                    0\n",
       "Status                        0\n",
       "Study Results                 0\n",
       "Gender                       10\n",
       "Age                           0\n",
       "Phases                     2461\n",
       "Enrollment                   34\n",
       "Study Type                    0\n",
       "Start Date                   34\n",
       "Primary Completion Date      36\n",
       "Completion Date              36\n",
       "First Posted                  0\n",
       "Results First Posted       5747\n",
       "Last Update Posted            0\n",
       "Locations                   585\n",
       "dtype: int64"
      ]
     },
     "execution_count": 400,
     "metadata": {},
     "output_type": "execute_result"
    }
   ],
   "source": [
    "clinical_trials_reduced.isna().sum()"
   ]
  },
  {
   "cell_type": "markdown",
   "id": "5bebe4f2",
   "metadata": {},
   "source": [
    "I am going to remove columns *Results First Posted* and *Phases* since they correspond to 99.4% and 42.6% of the total data in their respective columns."
   ]
  },
  {
   "cell_type": "code",
   "execution_count": 401,
   "id": "90bc4067",
   "metadata": {},
   "outputs": [],
   "source": [
    "clinical_trials_reduced = clinical_trials_reduced.drop(['Results First Posted', 'Phases'], axis=1)"
   ]
  },
  {
   "cell_type": "code",
   "execution_count": 402,
   "id": "12aa4941",
   "metadata": {},
   "outputs": [
    {
     "data": {
      "text/plain": [
       "NCT Number                   0\n",
       "Status                       0\n",
       "Study Results                0\n",
       "Gender                      10\n",
       "Age                          0\n",
       "Enrollment                  34\n",
       "Study Type                   0\n",
       "Start Date                  34\n",
       "Primary Completion Date     36\n",
       "Completion Date             36\n",
       "First Posted                 0\n",
       "Last Update Posted           0\n",
       "Locations                  585\n",
       "dtype: int64"
      ]
     },
     "execution_count": 402,
     "metadata": {},
     "output_type": "execute_result"
    }
   ],
   "source": [
    "clinical_trials_reduced.isna().sum()"
   ]
  },
  {
   "cell_type": "markdown",
   "id": "de45c8cf",
   "metadata": {},
   "source": [
    "\n",
    "\n",
    "I am wondering if the 34/36 nan values in columns *Start Date*, *Primary Completion Date*, and *Completion Date* are mostly the same."
   ]
  },
  {
   "cell_type": "code",
   "execution_count": 403,
   "id": "accaa21e",
   "metadata": {},
   "outputs": [],
   "source": [
    "start_date = clinical_trials_reduced['Start Date'].isna()\n",
    "primary_completion_date = clinical_trials_reduced['Primary Completion Date'].isna()\n",
    "completion_date = clinical_trials_reduced['Completion Date'].isna()"
   ]
  },
  {
   "cell_type": "code",
   "execution_count": 404,
   "id": "b3ff8f39",
   "metadata": {},
   "outputs": [
    {
     "name": "stdout",
     "output_type": "stream",
     "text": [
      "Missing values in columns 'Primary Completion Date' and 'Completion Date' are the same\n"
     ]
    }
   ],
   "source": [
    "if primary_completion_date.equals(completion_date):\n",
    "    print('Missing values in columns \\'Primary Completion Date\\' and \\'Completion Date\\' are the same')"
   ]
  },
  {
   "cell_type": "code",
   "execution_count": 405,
   "id": "72d055c0",
   "metadata": {},
   "outputs": [],
   "source": [
    "clinical_trials_reduced.dropna(subset=['Primary Completion Date', 'Completion Date'], inplace=True)"
   ]
  },
  {
   "cell_type": "code",
   "execution_count": 406,
   "id": "335c6136",
   "metadata": {},
   "outputs": [
    {
     "data": {
      "text/plain": [
       "NCT Number                   0\n",
       "Status                       0\n",
       "Study Results                0\n",
       "Gender                       8\n",
       "Age                          0\n",
       "Enrollment                   0\n",
       "Study Type                   0\n",
       "Start Date                   0\n",
       "Primary Completion Date      0\n",
       "Completion Date              0\n",
       "First Posted                 0\n",
       "Last Update Posted           0\n",
       "Locations                  571\n",
       "dtype: int64"
      ]
     },
     "execution_count": 406,
     "metadata": {},
     "output_type": "execute_result"
    }
   ],
   "source": [
    "clinical_trials_reduced.isna().sum()"
   ]
  },
  {
   "cell_type": "markdown",
   "id": "483b1d6d",
   "metadata": {},
   "source": [
    "We can conclude the 34 missing values in the *Start Date* column corresponded to the same trial with the mising values in the *Primary Completion Date*, and *Completion Date* columns.\n",
    "\n",
    "The removal of these rows also removed the missing values in the *Enrollement* row and 2 missing values in the *Gender* column and 14 values from 'Location' columns."
   ]
  },
  {
   "cell_type": "markdown",
   "id": "458acfc7",
   "metadata": {},
   "source": [
    "Since I want to perform an analysis based on location, I am going to remove the rows with nan values in *Location* column."
   ]
  },
  {
   "cell_type": "code",
   "execution_count": 407,
   "id": "729fe36b",
   "metadata": {},
   "outputs": [],
   "source": [
    "clinical_trials_reduced.dropna(subset=['Locations'], inplace=True)"
   ]
  },
  {
   "cell_type": "code",
   "execution_count": 408,
   "id": "c25ec55e",
   "metadata": {},
   "outputs": [
    {
     "data": {
      "text/plain": [
       "NCT Number                 0\n",
       "Status                     0\n",
       "Study Results              0\n",
       "Gender                     8\n",
       "Age                        0\n",
       "Enrollment                 0\n",
       "Study Type                 0\n",
       "Start Date                 0\n",
       "Primary Completion Date    0\n",
       "Completion Date            0\n",
       "First Posted               0\n",
       "Last Update Posted         0\n",
       "Locations                  0\n",
       "dtype: int64"
      ]
     },
     "execution_count": 408,
     "metadata": {},
     "output_type": "execute_result"
    }
   ],
   "source": [
    "clinical_trials_reduced.isna().sum()"
   ]
  },
  {
   "cell_type": "code",
   "execution_count": 409,
   "id": "90733ad3",
   "metadata": {},
   "outputs": [
    {
     "data": {
      "text/plain": [
       "All       4976\n",
       "Female     150\n",
       "Male        42\n",
       "Name: Gender, dtype: int64"
      ]
     },
     "execution_count": 409,
     "metadata": {},
     "output_type": "execute_result"
    }
   ],
   "source": [
    "clinical_trials_reduced.Gender.value_counts()"
   ]
  },
  {
   "cell_type": "markdown",
   "id": "3d92d3d0",
   "metadata": {},
   "source": [
    "Based on the table below, I am assume the missing values in the *Gender* column are considered as 'All'"
   ]
  },
  {
   "cell_type": "code",
   "execution_count": 410,
   "id": "1bc782b4",
   "metadata": {},
   "outputs": [],
   "source": [
    "clinical_trials_reduced.Gender.fillna('All', inplace=True)"
   ]
  },
  {
   "cell_type": "code",
   "execution_count": 411,
   "id": "eff0ac2f",
   "metadata": {},
   "outputs": [
    {
     "data": {
      "text/plain": [
       "NCT Number                 0\n",
       "Status                     0\n",
       "Study Results              0\n",
       "Gender                     0\n",
       "Age                        0\n",
       "Enrollment                 0\n",
       "Study Type                 0\n",
       "Start Date                 0\n",
       "Primary Completion Date    0\n",
       "Completion Date            0\n",
       "First Posted               0\n",
       "Last Update Posted         0\n",
       "Locations                  0\n",
       "dtype: int64"
      ]
     },
     "execution_count": 411,
     "metadata": {},
     "output_type": "execute_result"
    }
   ],
   "source": [
    "clinical_trials_reduced.isna().sum()"
   ]
  },
  {
   "cell_type": "code",
   "execution_count": 412,
   "id": "6916e43f",
   "metadata": {},
   "outputs": [
    {
     "data": {
      "text/plain": [
       "(5176, 13)"
      ]
     },
     "execution_count": 412,
     "metadata": {},
     "output_type": "execute_result"
    }
   ],
   "source": [
    "clinical_trials_reduced.shape"
   ]
  },
  {
   "cell_type": "code",
   "execution_count": 413,
   "id": "40ea724a",
   "metadata": {},
   "outputs": [
    {
     "name": "stdout",
     "output_type": "stream",
     "text": [
      "After removing missing values, the reduced dataset contains 89.5% of the original one.\n"
     ]
    }
   ],
   "source": [
    "proportion = 5176/5783*100\n",
    "print(f'After removing missing values, the reduced dataset contains {round(proportion,1)}% of the original one.')"
   ]
  },
  {
   "cell_type": "markdown",
   "id": "01579f1e",
   "metadata": {},
   "source": [
    "## 2: Drop duplicates"
   ]
  },
  {
   "cell_type": "code",
   "execution_count": 414,
   "id": "3d9deabd",
   "metadata": {},
   "outputs": [
    {
     "data": {
      "text/plain": [
       "0"
      ]
     },
     "execution_count": 414,
     "metadata": {},
     "output_type": "execute_result"
    }
   ],
   "source": [
    "clinical_trials_reduced.duplicated().sum()"
   ]
  },
  {
   "cell_type": "markdown",
   "id": "2ea6487c",
   "metadata": {},
   "source": [
    "There is no duplicated data in the dataset."
   ]
  },
  {
   "cell_type": "markdown",
   "id": "356386a9",
   "metadata": {},
   "source": [
    "## 3. Irrelevant Data"
   ]
  },
  {
   "cell_type": "markdown",
   "id": "236cf579",
   "metadata": {},
   "source": [
    "I already removed the columns I think are not relevant to this project."
   ]
  },
  {
   "cell_type": "markdown",
   "id": "f6779c13",
   "metadata": {},
   "source": [
    "## 4. Categorical values"
   ]
  },
  {
   "cell_type": "markdown",
   "id": "46fe8a96",
   "metadata": {},
   "source": [
    "This dataset has a number of categorical variables. Let's check their unique values and organise their categories in a better way and clean column values if necessary."
   ]
  },
  {
   "cell_type": "code",
   "execution_count": 416,
   "id": "9d3a2fff",
   "metadata": {},
   "outputs": [],
   "source": [
    "categorical_variables = ['Status', 'Study Results', 'Gender', 'Age', 'Study Type','Locations']"
   ]
  },
  {
   "cell_type": "code",
   "execution_count": 417,
   "id": "37a14099",
   "metadata": {},
   "outputs": [
    {
     "name": "stdout",
     "output_type": "stream",
     "text": [
      "Status 8\n",
      "Study Results 2\n",
      "Gender 3\n",
      "Age 395\n",
      "Study Type 2\n",
      "Locations 4241\n"
     ]
    }
   ],
   "source": [
    "for var in categorical_variables:\n",
    "    print(var, clinical_trials_reduced[var].nunique())"
   ]
  },
  {
   "cell_type": "code",
   "execution_count": 418,
   "id": "520bd454",
   "metadata": {},
   "outputs": [
    {
     "data": {
      "text/plain": [
       "array(['Active, not recruiting', 'Not yet recruiting', 'Recruiting',\n",
       "       'Enrolling by invitation', 'Suspended', 'Completed', 'Withdrawn',\n",
       "       'Terminated'], dtype=object)"
      ]
     },
     "execution_count": 418,
     "metadata": {},
     "output_type": "execute_result"
    }
   ],
   "source": [
    "clinical_trials_reduced.Status.unique()"
   ]
  },
  {
   "cell_type": "code",
   "execution_count": 419,
   "id": "8d8a80c5",
   "metadata": {},
   "outputs": [
    {
     "data": {
      "text/plain": [
       "array(['No Results Available', 'Has Results'], dtype=object)"
      ]
     },
     "execution_count": 419,
     "metadata": {},
     "output_type": "execute_result"
    }
   ],
   "source": [
    "clinical_trials_reduced['Study Results'].unique()"
   ]
  },
  {
   "cell_type": "code",
   "execution_count": 420,
   "id": "78e69135",
   "metadata": {},
   "outputs": [
    {
     "data": {
      "text/plain": [
       "array(['All', 'Female', 'Male'], dtype=object)"
      ]
     },
     "execution_count": 420,
     "metadata": {},
     "output_type": "execute_result"
    }
   ],
   "source": [
    "clinical_trials_reduced['Gender'].unique()"
   ]
  },
  {
   "cell_type": "code",
   "execution_count": 421,
   "id": "a0205c01",
   "metadata": {},
   "outputs": [
    {
     "data": {
      "text/plain": [
       "array(['18 Years and older \\xa0 (Adult, Older Adult)',\n",
       "       'Child, Adult, Older Adult', '18 Years to 48 Years \\xa0 (Adult)',\n",
       "       '18 Years to 75 Years \\xa0 (Adult, Older Adult)',\n",
       "       '18 Years to 45 Years \\xa0 (Adult)',\n",
       "       '18 Years to 99 Years \\xa0 (Adult, Older Adult)',\n",
       "       '18 Years to 55 Years \\xa0 (Adult)',\n",
       "       '15 Years and older \\xa0 (Child, Adult, Older Adult)',\n",
       "       '18 Years to 80 Years \\xa0 (Adult, Older Adult)',\n",
       "       '45 Years and older \\xa0 (Adult, Older Adult)',\n",
       "       '20 Years to 100 Years \\xa0 (Adult, Older Adult)',\n",
       "       '8 Years to 88 Years \\xa0 (Child, Adult, Older Adult)',\n",
       "       '5 Years to 65 Years \\xa0 (Child, Adult, Older Adult)',\n",
       "       'up to 99 Years \\xa0 (Child, Adult, Older Adult)',\n",
       "       '18 Years to 85 Years \\xa0 (Adult, Older Adult)',\n",
       "       '18 Years to 65 Years \\xa0 (Adult, Older Adult)',\n",
       "       'up to 29 Days \\xa0 (Child)',\n",
       "       '18 Years to 70 Years \\xa0 (Adult, Older Adult)',\n",
       "       '18 Years to 59 Years \\xa0 (Adult)',\n",
       "       'up to 100 Years \\xa0 (Child, Adult, Older Adult)',\n",
       "       '20 Years to 60 Years \\xa0 (Adult)',\n",
       "       '40 Years to 80 Years \\xa0 (Adult, Older Adult)',\n",
       "       '23 Years and older \\xa0 (Adult, Older Adult)',\n",
       "       '18 Years to 120 Years \\xa0 (Adult, Older Adult)',\n",
       "       '16 Years and older \\xa0 (Child, Adult, Older Adult)',\n",
       "       '5 Years to 90 Years \\xa0 (Child, Adult, Older Adult)',\n",
       "       '18 Years to 90 Years \\xa0 (Adult, Older Adult)',\n",
       "       'up to 18 Years \\xa0 (Child, Adult)',\n",
       "       '2 Years and older \\xa0 (Child, Adult, Older Adult)',\n",
       "       '70 Years and older \\xa0 (Older Adult)',\n",
       "       '18 Years to 26 Years \\xa0 (Adult)',\n",
       "       '18 Years to 95 Years \\xa0 (Adult, Older Adult)',\n",
       "       '12 Years and older \\xa0 (Child, Adult, Older Adult)',\n",
       "       '16 Years to 55 Years \\xa0 (Child, Adult)',\n",
       "       '30 Years to 70 Years \\xa0 (Adult, Older Adult)',\n",
       "       '35 Years to 65 Years \\xa0 (Adult, Older Adult)',\n",
       "       '18 Years to 60 Years \\xa0 (Adult)',\n",
       "       '18 Years to 100 Years \\xa0 (Adult, Older Adult)',\n",
       "       '6 Years and older \\xa0 (Child, Adult, Older Adult)',\n",
       "       'up to 17 Years \\xa0 (Child)',\n",
       "       '22 Years to 72 Years \\xa0 (Adult, Older Adult)',\n",
       "       '16 Years to 100 Years \\xa0 (Child, Adult, Older Adult)',\n",
       "       '20 Years to 65 Years \\xa0 (Adult, Older Adult)',\n",
       "       '14 Years to 75 Years \\xa0 (Child, Adult, Older Adult)',\n",
       "       '5 Years and older \\xa0 (Child, Adult, Older Adult)',\n",
       "       '1 Year to 100 Years \\xa0 (Child, Adult, Older Adult)',\n",
       "       '18 Years to 89 Years \\xa0 (Adult, Older Adult)',\n",
       "       '4 Years to 13 Years \\xa0 (Child)',\n",
       "       '18 Years to 40 Years \\xa0 (Adult)',\n",
       "       '16 Years to 90 Years \\xa0 (Child, Adult, Older Adult)',\n",
       "       '1 Year to 90 Years \\xa0 (Child, Adult, Older Adult)',\n",
       "       '17 Years to 50 Years \\xa0 (Child, Adult)',\n",
       "       '18 Years to 69 Years \\xa0 (Adult, Older Adult)',\n",
       "       '19 Years and older \\xa0 (Adult, Older Adult)',\n",
       "       '18 Years to 50 Years \\xa0 (Adult)',\n",
       "       '8 Years and older \\xa0 (Child, Adult, Older Adult)',\n",
       "       '50 Years and older \\xa0 (Adult, Older Adult)',\n",
       "       'up to 20 Years \\xa0 (Child, Adult)',\n",
       "       '18 Years to 49 Years \\xa0 (Adult)',\n",
       "       '18 Years to 62 Years \\xa0 (Adult)',\n",
       "       '18 Years to 67 Years \\xa0 (Adult, Older Adult)',\n",
       "       '40 Years and older \\xa0 (Adult, Older Adult)',\n",
       "       'up to 15 Minutes \\xa0 (Child)',\n",
       "       '10 Years to 50 Years \\xa0 (Child, Adult)',\n",
       "       '11 Years to 100 Years \\xa0 (Child, Adult, Older Adult)',\n",
       "       'up to 70 Years \\xa0 (Child, Adult, Older Adult)',\n",
       "       '18 Years to 84 Years \\xa0 (Adult, Older Adult)',\n",
       "       '65 Years and older \\xa0 (Older Adult)',\n",
       "       '21 Years to 65 Years \\xa0 (Adult, Older Adult)',\n",
       "       '18 Years to 111 Years \\xa0 (Adult, Older Adult)',\n",
       "       '12 Years to 65 Years \\xa0 (Child, Adult, Older Adult)',\n",
       "       '40 Years to 76 Years \\xa0 (Adult, Older Adult)',\n",
       "       '20 Years and older \\xa0 (Adult, Older Adult)',\n",
       "       '25 Years to 35 Years \\xa0 (Adult)',\n",
       "       '22 Weeks to 28 Weeks \\xa0 (Child)',\n",
       "       '18 Years to 105 Years \\xa0 (Adult, Older Adult)',\n",
       "       '21 Years and older \\xa0 (Adult, Older Adult)',\n",
       "       '21 Years to 80 Years \\xa0 (Adult, Older Adult)',\n",
       "       '4 Years and older \\xa0 (Child, Adult, Older Adult)',\n",
       "       '7 Years and older \\xa0 (Child, Adult, Older Adult)',\n",
       "       '1 Year and older \\xa0 (Child, Adult, Older Adult)',\n",
       "       '15 Years to 85 Years \\xa0 (Child, Adult, Older Adult)',\n",
       "       '18 Years to 64 Years \\xa0 (Adult)',\n",
       "       '55 Years and older \\xa0 (Adult, Older Adult)',\n",
       "       '60 Years and older \\xa0 (Adult, Older Adult)',\n",
       "       '20 Years to 80 Years \\xa0 (Adult, Older Adult)',\n",
       "       '3 Years to 10 Years \\xa0 (Child)',\n",
       "       '17 Years and older \\xa0 (Child, Adult, Older Adult)',\n",
       "       '1 Month to 99 Years \\xa0 (Child, Adult, Older Adult)',\n",
       "       '19 Years to 70 Years \\xa0 (Adult, Older Adult)',\n",
       "       '8 Years to 89 Years \\xa0 (Child, Adult, Older Adult)',\n",
       "       '18 Years to 110 Years \\xa0 (Adult, Older Adult)',\n",
       "       '18 Years to 130 Years \\xa0 (Adult, Older Adult)',\n",
       "       '17 Years to 65 Years \\xa0 (Child, Adult, Older Adult)',\n",
       "       'up to 14 Years \\xa0 (Child)',\n",
       "       '10 Years and older \\xa0 (Child, Adult, Older Adult)',\n",
       "       '10 Years to 70 Years \\xa0 (Child, Adult, Older Adult)',\n",
       "       '20 Years to 70 Years \\xa0 (Adult, Older Adult)',\n",
       "       '6 Months to 80 Years \\xa0 (Child, Adult, Older Adult)',\n",
       "       '3 Months and older \\xa0 (Child, Adult, Older Adult)',\n",
       "       '4 Years to 99 Years \\xa0 (Child, Adult, Older Adult)',\n",
       "       '21 Years to 70 Years \\xa0 (Adult, Older Adult)',\n",
       "       '60 Years to 80 Years \\xa0 (Adult, Older Adult)',\n",
       "       '3 Years and older \\xa0 (Child, Adult, Older Adult)',\n",
       "       'up to 22 Years \\xa0 (Child, Adult)',\n",
       "       '13 Years to 59 Years \\xa0 (Child, Adult)',\n",
       "       'up to 24 Years \\xa0 (Child, Adult)',\n",
       "       '2 Months and older \\xa0 (Child, Adult, Older Adult)',\n",
       "       '18 Months and older \\xa0 (Child, Adult, Older Adult)',\n",
       "       '18 Years to 79 Years \\xa0 (Adult, Older Adult)',\n",
       "       '12 Years to 80 Years \\xa0 (Child, Adult, Older Adult)',\n",
       "       '15 Years to 90 Years \\xa0 (Child, Adult, Older Adult)',\n",
       "       '18 Years to 42 Years \\xa0 (Adult)',\n",
       "       '21 Years to 100 Years \\xa0 (Adult, Older Adult)',\n",
       "       '30 Years to 80 Years \\xa0 (Adult, Older Adult)',\n",
       "       '1 Year to 18 Years \\xa0 (Child, Adult)',\n",
       "       '1 Year to 80 Years \\xa0 (Child, Adult, Older Adult)',\n",
       "       '25 Years to 55 Years \\xa0 (Adult)',\n",
       "       '18 Years to 101 Years \\xa0 (Adult, Older Adult)',\n",
       "       '2 Years to 18 Years \\xa0 (Child, Adult)',\n",
       "       '19 Years to 80 Years \\xa0 (Adult, Older Adult)',\n",
       "       '30 Years and older \\xa0 (Adult, Older Adult)',\n",
       "       '1 Month to 18 Years \\xa0 (Child, Adult)',\n",
       "       '2 Years to 27 Years \\xa0 (Child, Adult)',\n",
       "       '16 Years to 120 Years \\xa0 (Child, Adult, Older Adult)',\n",
       "       '60 Years to 111 Years \\xa0 (Adult, Older Adult)',\n",
       "       '19 Years to 75 Years \\xa0 (Adult, Older Adult)',\n",
       "       '1 Month to 17 Years \\xa0 (Child)',\n",
       "       '20 Years to 79 Years \\xa0 (Adult, Older Adult)',\n",
       "       '17 Years to 75 Years \\xa0 (Child, Adult, Older Adult)',\n",
       "       '21 Years to 64 Years \\xa0 (Adult)',\n",
       "       '25 Years to 70 Years \\xa0 (Adult, Older Adult)',\n",
       "       '12 Years to 100 Years \\xa0 (Child, Adult, Older Adult)',\n",
       "       '16 Years to 80 Years \\xa0 (Child, Adult, Older Adult)',\n",
       "       '18 Years to 35 Years \\xa0 (Adult)',\n",
       "       '55 Years to 120 Years \\xa0 (Adult, Older Adult)',\n",
       "       '1 Year to 15 Years \\xa0 (Child)',\n",
       "       'up to 45 Years \\xa0 (Child, Adult)',\n",
       "       '90 Years and older \\xa0 (Older Adult)',\n",
       "       '18 Years to 39 Years \\xa0 (Adult)',\n",
       "       '15 Years to 35 Years \\xa0 (Child, Adult)',\n",
       "       'up to 50 Years \\xa0 (Child, Adult)',\n",
       "       '15 Years to 80 Years \\xa0 (Child, Adult, Older Adult)',\n",
       "       '14 Years and older \\xa0 (Child, Adult, Older Adult)',\n",
       "       '1 Year to 16 Years \\xa0 (Child)',\n",
       "       '2 Years to 15 Years \\xa0 (Child)',\n",
       "       '17 Years to 35 Years \\xa0 (Child, Adult)',\n",
       "       '6 Years to 85 Years \\xa0 (Child, Adult, Older Adult)',\n",
       "       '25 Years to 40 Years \\xa0 (Adult)',\n",
       "       '12 Years to 99 Years \\xa0 (Child, Adult, Older Adult)',\n",
       "       '18 Years to 30 Years \\xa0 (Adult)',\n",
       "       '75 Years and older \\xa0 (Older Adult)',\n",
       "       '50 Years to 90 Years \\xa0 (Adult, Older Adult)',\n",
       "       '4 Years to 18 Years \\xa0 (Child, Adult)',\n",
       "       'up to 85 Years \\xa0 (Child, Adult, Older Adult)',\n",
       "       '16 Years to 85 Years \\xa0 (Child, Adult, Older Adult)',\n",
       "       '36 Years to 63 Years \\xa0 (Adult)',\n",
       "       '4 Years to 80 Years \\xa0 (Child, Adult, Older Adult)',\n",
       "       '25 Years to 60 Years \\xa0 (Adult)',\n",
       "       '1 Year to 99 Years \\xa0 (Child, Adult, Older Adult)',\n",
       "       '20 Years to 45 Years \\xa0 (Adult)', 'up to 7 Hours \\xa0 (Child)',\n",
       "       '4 Years to 17 Years \\xa0 (Child)',\n",
       "       '3 Years to 67 Years \\xa0 (Child, Adult, Older Adult)',\n",
       "       '25 Years and older \\xa0 (Adult, Older Adult)',\n",
       "       '21 Years to 60 Years \\xa0 (Adult)',\n",
       "       '18 Years to 76 Years \\xa0 (Adult, Older Adult)',\n",
       "       '25 Years to 80 Years \\xa0 (Adult, Older Adult)',\n",
       "       '19 Years to 85 Years \\xa0 (Adult, Older Adult)',\n",
       "       '3 Years to 99 Years \\xa0 (Child, Adult, Older Adult)',\n",
       "       '24 Years to 37 Years \\xa0 (Adult)',\n",
       "       '12 Years to 120 Years \\xa0 (Child, Adult, Older Adult)',\n",
       "       '20 Years to 74 Years \\xa0 (Adult, Older Adult)',\n",
       "       'up to 21 Years \\xa0 (Child, Adult)',\n",
       "       '16 Years to 40 Years \\xa0 (Child, Adult)',\n",
       "       'up to 28 Days \\xa0 (Child)', '30 Years to 55 Years \\xa0 (Adult)',\n",
       "       '18 Years to 117 Years \\xa0 (Adult, Older Adult)',\n",
       "       '3 Years to 17 Years \\xa0 (Child)',\n",
       "       '12 Years to 25 Years \\xa0 (Child, Adult)',\n",
       "       '16 Years to 70 Years \\xa0 (Child, Adult, Older Adult)',\n",
       "       '30 Years to 60 Years \\xa0 (Adult)',\n",
       "       'up to 12 Months \\xa0 (Child)',\n",
       "       '12 Years to 57 Years \\xa0 (Child, Adult)',\n",
       "       '15 Years to 65 Years \\xa0 (Child, Adult, Older Adult)',\n",
       "       '3 Years to 25 Years \\xa0 (Child, Adult)',\n",
       "       '18 Years to 88 Years \\xa0 (Adult, Older Adult)',\n",
       "       'up to 10 Years \\xa0 (Child)',\n",
       "       '6 Months to 100 Years \\xa0 (Child, Adult, Older Adult)',\n",
       "       '28 Years to 45 Years \\xa0 (Adult)',\n",
       "       '13 Years and older \\xa0 (Child, Adult, Older Adult)',\n",
       "       'up to 90 Years \\xa0 (Child, Adult, Older Adult)',\n",
       "       '40 Years to 60 Years \\xa0 (Adult)',\n",
       "       '30 Years to 85 Years \\xa0 (Adult, Older Adult)',\n",
       "       'up to 89 Years \\xa0 (Child, Adult, Older Adult)',\n",
       "       '14 Years to 100 Years \\xa0 (Child, Adult, Older Adult)',\n",
       "       '40 Years to 85 Years \\xa0 (Adult, Older Adult)',\n",
       "       '16 Years to 86 Years \\xa0 (Child, Adult, Older Adult)',\n",
       "       'up to 15 Years \\xa0 (Child)', '20 Years to 50 Years \\xa0 (Adult)',\n",
       "       '1 Month to 100 Years \\xa0 (Child, Adult, Older Adult)',\n",
       "       '12 Months and older \\xa0 (Child, Adult, Older Adult)',\n",
       "       '12 Years to 50 Years \\xa0 (Child, Adult)',\n",
       "       '50 Years to 80 Years \\xa0 (Adult, Older Adult)',\n",
       "       '45 Years to 75 Years \\xa0 (Adult, Older Adult)',\n",
       "       '55 Years to 85 Years \\xa0 (Adult, Older Adult)',\n",
       "       '24 Months to 18 Years \\xa0 (Child, Adult)',\n",
       "       '19 Years to 65 Years \\xa0 (Adult, Older Adult)',\n",
       "       '18 Years to 71 Years \\xa0 (Adult, Older Adult)',\n",
       "       '46 Years and older \\xa0 (Adult, Older Adult)',\n",
       "       '35 Years to 45 Years \\xa0 (Adult)',\n",
       "       '85 Years to 100 Years \\xa0 (Older Adult)',\n",
       "       '45 Years to 85 Years \\xa0 (Adult, Older Adult)',\n",
       "       '20 Years to 90 Years \\xa0 (Adult, Older Adult)',\n",
       "       '12 Years to 85 Years \\xa0 (Child, Adult, Older Adult)',\n",
       "       '216 Months and older \\xa0 (Adult, Older Adult)',\n",
       "       '3 Years to 18 Years \\xa0 (Child, Adult)',\n",
       "       '15 Years to 45 Years \\xa0 (Child, Adult)',\n",
       "       '12 Years to 17 Years \\xa0 (Child)',\n",
       "       '1 Month to 30 Years \\xa0 (Child, Adult)',\n",
       "       '21 Years to 40 Years \\xa0 (Adult)',\n",
       "       '20 Years to 85 Years \\xa0 (Adult, Older Adult)',\n",
       "       '8 Years to 14 Years \\xa0 (Child)',\n",
       "       'up to 25 Years \\xa0 (Child, Adult)',\n",
       "       '11 Years and older \\xa0 (Child, Adult, Older Adult)',\n",
       "       '19 Years to 64 Years \\xa0 (Adult)',\n",
       "       '15 Years to 75 Years \\xa0 (Child, Adult, Older Adult)',\n",
       "       '40 Years to 75 Years \\xa0 (Adult, Older Adult)',\n",
       "       '16 Years to 99 Years \\xa0 (Child, Adult, Older Adult)',\n",
       "       '25 Years to 65 Years \\xa0 (Adult, Older Adult)',\n",
       "       '4 Years to 64 Years \\xa0 (Child, Adult)',\n",
       "       '18 Years to 54 Years \\xa0 (Adult)',\n",
       "       '40 Years to 70 Years \\xa0 (Adult, Older Adult)',\n",
       "       '50 Years to 85 Years \\xa0 (Adult, Older Adult)',\n",
       "       '7 Years to 18 Years \\xa0 (Child, Adult)',\n",
       "       '24 Years to 45 Years \\xa0 (Adult)',\n",
       "       '40 Years to 65 Years \\xa0 (Adult, Older Adult)',\n",
       "       '13 Years to 19 Years \\xa0 (Child, Adult)',\n",
       "       '25 Years to 67 Years \\xa0 (Adult, Older Adult)',\n",
       "       '18 Years to 74 Years \\xa0 (Adult, Older Adult)',\n",
       "       '14 Years to 90 Years \\xa0 (Child, Adult, Older Adult)',\n",
       "       '15 Years to 100 Years \\xa0 (Child, Adult, Older Adult)',\n",
       "       '18 Years to 47 Years \\xa0 (Adult)', 'up to 2 Years \\xa0 (Child)',\n",
       "       '50 Years to 75 Years \\xa0 (Adult, Older Adult)',\n",
       "       '31 Days to 18 Years \\xa0 (Child, Adult)',\n",
       "       '8 Years to 80 Years \\xa0 (Child, Adult, Older Adult)',\n",
       "       '18 Years to 125 Years \\xa0 (Adult, Older Adult)',\n",
       "       '18 Years to 68 Years \\xa0 (Adult, Older Adult)',\n",
       "       'up to 1 Month \\xa0 (Child)', '20 Years to 38 Years \\xa0 (Adult)',\n",
       "       '6 Months to 11 Years \\xa0 (Child)',\n",
       "       '26 Years to 40 Years \\xa0 (Adult)',\n",
       "       '65 Years to 110 Years \\xa0 (Older Adult)',\n",
       "       '7 Years to 12 Years \\xa0 (Child)',\n",
       "       '12 Years to 90 Years \\xa0 (Child, Adult, Older Adult)',\n",
       "       '19 Years to 55 Years \\xa0 (Adult)',\n",
       "       '1 Month and older \\xa0 (Child, Adult, Older Adult)',\n",
       "       '18 Years to 114 Years \\xa0 (Adult, Older Adult)',\n",
       "       '35 Years to 100 Years \\xa0 (Adult, Older Adult)',\n",
       "       '4 Years to 6 Years \\xa0 (Child)',\n",
       "       '7 Years to 9 Years \\xa0 (Child)',\n",
       "       '12 Years to 98 Years \\xa0 (Child, Adult, Older Adult)',\n",
       "       '21 Years to 50 Years \\xa0 (Adult)',\n",
       "       '20 Years to 75 Years \\xa0 (Adult, Older Adult)',\n",
       "       '24 Years to 60 Years \\xa0 (Adult)',\n",
       "       '18 Years to 43 Years \\xa0 (Adult)',\n",
       "       '18 Years to 24 Years \\xa0 (Adult)',\n",
       "       '24 Years to 80 Years \\xa0 (Adult, Older Adult)',\n",
       "       'up to 13 Years \\xa0 (Child)',\n",
       "       '23 Years to 75 Years \\xa0 (Adult, Older Adult)',\n",
       "       '14 Years to 70 Years \\xa0 (Child, Adult, Older Adult)',\n",
       "       '50 Years to 110 Years \\xa0 (Adult, Older Adult)',\n",
       "       '18 Years to 51 Years \\xa0 (Adult)',\n",
       "       '22 Years to 65 Years \\xa0 (Adult, Older Adult)',\n",
       "       '20 Years to 59 Years \\xa0 (Adult)',\n",
       "       '15 Years to 17 Years \\xa0 (Child)',\n",
       "       '50 Years to 89 Years \\xa0 (Adult, Older Adult)',\n",
       "       '14 Years to 80 Years \\xa0 (Child, Adult, Older Adult)',\n",
       "       '65 Years to 100 Years \\xa0 (Older Adult)',\n",
       "       '10 Years to 17 Years \\xa0 (Child)',\n",
       "       '48 Years to 60 Years \\xa0 (Adult)',\n",
       "       '45 Years to 80 Years \\xa0 (Adult, Older Adult)',\n",
       "       '20 Years to 55 Years \\xa0 (Adult)',\n",
       "       '44 Weeks to 18 Years \\xa0 (Child, Adult)',\n",
       "       '6 Years to 17 Years \\xa0 (Child)',\n",
       "       '13 Years to 25 Years \\xa0 (Child, Adult)',\n",
       "       '5 Years to 75 Years \\xa0 (Child, Adult, Older Adult)',\n",
       "       '6 Months to 9 Months \\xa0 (Child)',\n",
       "       '20 Years to 69 Years \\xa0 (Adult, Older Adult)',\n",
       "       '9 Months and older \\xa0 (Child, Adult, Older Adult)',\n",
       "       '9 Years to 12 Years \\xa0 (Child)',\n",
       "       '21 Years to 58 Years \\xa0 (Adult)', 'up to 72 Hours \\xa0 (Child)',\n",
       "       '1 Year to 95 Years \\xa0 (Child, Adult, Older Adult)',\n",
       "       '3 Years to 13 Years \\xa0 (Child)',\n",
       "       '30 Years to 66 Years \\xa0 (Adult, Older Adult)',\n",
       "       '35 Years to 80 Years \\xa0 (Adult, Older Adult)',\n",
       "       '14 Years to 18 Years \\xa0 (Child, Adult)',\n",
       "       '18 Years to 22 Years \\xa0 (Adult)',\n",
       "       '10 Years to 18 Years \\xa0 (Child, Adult)',\n",
       "       '4 Years to 7 Years \\xa0 (Child)',\n",
       "       '65 Years to 85 Years \\xa0 (Older Adult)',\n",
       "       '13 Years to 21 Years \\xa0 (Child, Adult)',\n",
       "       '3 Years to 6 Years \\xa0 (Child)',\n",
       "       '74 Years to 95 Years \\xa0 (Older Adult)',\n",
       "       '10 Years to 19 Years \\xa0 (Child, Adult)',\n",
       "       '13 Years to 24 Years \\xa0 (Child, Adult)',\n",
       "       '16 Years to 75 Years \\xa0 (Child, Adult, Older Adult)',\n",
       "       '85 Years and older \\xa0 (Older Adult)',\n",
       "       '18 Years to 25 Years \\xa0 (Adult)',\n",
       "       '18 Years to 72 Years \\xa0 (Adult, Older Adult)',\n",
       "       '17 Years to 81 Years \\xa0 (Child, Adult, Older Adult)',\n",
       "       '50 Years to 70 Years \\xa0 (Adult, Older Adult)',\n",
       "       '22 Years and older \\xa0 (Adult, Older Adult)',\n",
       "       'up to 80 Years \\xa0 (Child, Adult, Older Adult)',\n",
       "       '3 Years to 11 Years \\xa0 (Child)',\n",
       "       '8 Years to 15 Years \\xa0 (Child)',\n",
       "       '31 Days and older \\xa0 (Child, Adult, Older Adult)',\n",
       "       '13 Years to 99 Years \\xa0 (Child, Adult, Older Adult)',\n",
       "       '6 Years to 18 Years \\xa0 (Child, Adult)',\n",
       "       '6 Months to 6 Years \\xa0 (Child)',\n",
       "       '8 Years to 13 Years \\xa0 (Child)',\n",
       "       'up to 110 Years \\xa0 (Child, Adult, Older Adult)',\n",
       "       'up to 24 Months \\xa0 (Child)',\n",
       "       '12 Years to 75 Years \\xa0 (Child, Adult, Older Adult)',\n",
       "       '21 Years to 75 Years \\xa0 (Adult, Older Adult)',\n",
       "       '11 Years to 18 Years \\xa0 (Child, Adult)',\n",
       "       '11 Years to 17 Years \\xa0 (Child)',\n",
       "       '5 Years to 12 Years \\xa0 (Child)',\n",
       "       '10 Years to 75 Years \\xa0 (Child, Adult, Older Adult)',\n",
       "       'up to 16 Years \\xa0 (Child)',\n",
       "       '13 Years to 18 Years \\xa0 (Child, Adult)',\n",
       "       '2 Years to 17 Years \\xa0 (Child)',\n",
       "       '16 Years to 25 Years \\xa0 (Child, Adult)',\n",
       "       '3 Years to 8 Years \\xa0 (Child)',\n",
       "       '16 Years to 67 Years \\xa0 (Child, Adult, Older Adult)',\n",
       "       '13 Years to 16 Years \\xa0 (Child)',\n",
       "       '20 Years to 30 Years \\xa0 (Adult)',\n",
       "       '50 Years to 100 Years \\xa0 (Adult, Older Adult)',\n",
       "       '60 Years to 95 Years \\xa0 (Adult, Older Adult)',\n",
       "       '50 Years to 65 Years \\xa0 (Adult, Older Adult)',\n",
       "       '17 Years to 40 Years \\xa0 (Child, Adult)',\n",
       "       '4 Years to 12 Years \\xa0 (Child)',\n",
       "       '12 Years to 18 Years \\xa0 (Child, Adult)',\n",
       "       '16 Years to 24 Years \\xa0 (Child, Adult)',\n",
       "       '5 Years to 85 Years \\xa0 (Child, Adult, Older Adult)',\n",
       "       '20 Years to 99 Years \\xa0 (Adult, Older Adult)',\n",
       "       '11 Years to 15 Years \\xa0 (Child)',\n",
       "       '20 Years to 40 Years \\xa0 (Adult)',\n",
       "       '19 Years to 30 Years \\xa0 (Adult)',\n",
       "       '6 Months and older \\xa0 (Child, Adult, Older Adult)',\n",
       "       '52 Years and older \\xa0 (Adult, Older Adult)',\n",
       "       '16 Years to 49 Years \\xa0 (Child, Adult)',\n",
       "       '21 Years to 99 Years \\xa0 (Adult, Older Adult)',\n",
       "       '21 Years to 84 Years \\xa0 (Adult, Older Adult)',\n",
       "       '4 Years to 15 Years \\xa0 (Child)',\n",
       "       '35 Years to 70 Years \\xa0 (Adult, Older Adult)',\n",
       "       '55 Years to 80 Years \\xa0 (Adult, Older Adult)',\n",
       "       '65 Years to 80 Years \\xa0 (Older Adult)',\n",
       "       '21 Months to 47 Months \\xa0 (Child)',\n",
       "       '18 Months to 48 Months \\xa0 (Child)',\n",
       "       '4 Years to 8 Years \\xa0 (Child)',\n",
       "       '9 Years to 18 Years \\xa0 (Child, Adult)',\n",
       "       '7 Years to 11 Years \\xa0 (Child)',\n",
       "       '7 Years to 80 Years \\xa0 (Child, Adult, Older Adult)',\n",
       "       '40 Years to 100 Years \\xa0 (Adult, Older Adult)',\n",
       "       '4 Years to 10 Years \\xa0 (Child)',\n",
       "       '16 Years to 50 Years \\xa0 (Child, Adult)',\n",
       "       '55 Years to 79 Years \\xa0 (Adult, Older Adult)',\n",
       "       '7 Years to 17 Years \\xa0 (Child)',\n",
       "       '12 Years to 16 Years \\xa0 (Child)',\n",
       "       '48 Years to 58 Years \\xa0 (Adult)',\n",
       "       '55 Years to 110 Years \\xa0 (Adult, Older Adult)',\n",
       "       '17 Years to 20 Years \\xa0 (Child, Adult)',\n",
       "       'up to 5 Years \\xa0 (Child)', '6 Years to 12 Years \\xa0 (Child)',\n",
       "       '15 Years to 19 Years \\xa0 (Child, Adult)',\n",
       "       'up to 1 Year \\xa0 (Child)', '21 Years to 45 Years \\xa0 (Adult)',\n",
       "       '2 Years to 14 Years \\xa0 (Child)', 'up to 2 Months \\xa0 (Child)',\n",
       "       '11 Years to 16 Years \\xa0 (Child)',\n",
       "       '70 Years to 89 Years \\xa0 (Older Adult)',\n",
       "       '6 Years to 7 Years \\xa0 (Child)',\n",
       "       '45 Years to 59 Years \\xa0 (Adult)',\n",
       "       '6 Months to 17 Years \\xa0 (Child)',\n",
       "       '8 Years to 60 Years \\xa0 (Child, Adult)',\n",
       "       '35 Years to 85 Years \\xa0 (Adult, Older Adult)',\n",
       "       '62 Years and older \\xa0 (Adult, Older Adult)',\n",
       "       '6 Months to 24 Months \\xa0 (Child)',\n",
       "       '18 Years to 34 Years \\xa0 (Adult)',\n",
       "       '12 Years to 22 Years \\xa0 (Child, Adult)',\n",
       "       '3 Months to 18 Years \\xa0 (Child, Adult)',\n",
       "       '8 Years to 20 Years \\xa0 (Child, Adult)'], dtype=object)"
      ]
     },
     "execution_count": 421,
     "metadata": {},
     "output_type": "execute_result"
    }
   ],
   "source": [
    "clinical_trials_reduced['Age'].unique()"
   ]
  },
  {
   "cell_type": "code",
   "execution_count": 422,
   "id": "d23eab6a",
   "metadata": {},
   "outputs": [],
   "source": [
    "clinical_trials_reduced['Age'] = clinical_trials_reduced['Age'].apply(lambda s: s[s.find(\"(\")+1:s.find(\")\")])"
   ]
  },
  {
   "cell_type": "code",
   "execution_count": 423,
   "id": "96f18c5f",
   "metadata": {},
   "outputs": [
    {
     "data": {
      "text/plain": [
       "Adult, Older Adult           3902\n",
       "Child, Adult, Older Adul      432\n",
       "Adult                         304\n",
       "Child, Adult, Older Adult     289\n",
       "Child, Adult                   92\n",
       "Child                          90\n",
       "Older Adult                    67\n",
       "Name: Age, dtype: int64"
      ]
     },
     "execution_count": 423,
     "metadata": {},
     "output_type": "execute_result"
    }
   ],
   "source": [
    "clinical_trials_reduced['Age'].value_counts()"
   ]
  },
  {
   "cell_type": "code",
   "execution_count": 424,
   "id": "f2cd9203",
   "metadata": {},
   "outputs": [],
   "source": [
    "clinical_trials_reduced['Age'] = clinical_trials_reduced['Age'].replace('Child, Adult, Older Adul','Child, Adult, Older Adult')"
   ]
  },
  {
   "cell_type": "code",
   "execution_count": 425,
   "id": "f827dab2",
   "metadata": {},
   "outputs": [
    {
     "data": {
      "text/plain": [
       "Adult, Older Adult           3902\n",
       "Child, Adult, Older Adult     721\n",
       "Adult                         304\n",
       "Child, Adult                   92\n",
       "Child                          90\n",
       "Older Adult                    67\n",
       "Name: Age, dtype: int64"
      ]
     },
     "execution_count": 425,
     "metadata": {},
     "output_type": "execute_result"
    }
   ],
   "source": [
    "clinical_trials_reduced['Age'].value_counts()"
   ]
  },
  {
   "cell_type": "code",
   "execution_count": 426,
   "id": "c5edeade",
   "metadata": {},
   "outputs": [
    {
     "data": {
      "text/plain": [
       "Interventional    2969\n",
       "Observational     2207\n",
       "Name: Study Type, dtype: int64"
      ]
     },
     "execution_count": 426,
     "metadata": {},
     "output_type": "execute_result"
    }
   ],
   "source": [
    "clinical_trials_reduced['Study Type'].value_counts()"
   ]
  },
  {
   "cell_type": "code",
   "execution_count": 427,
   "id": "bbbf7175",
   "metadata": {},
   "outputs": [],
   "source": [
    "clinical_trials_reduced['Country'] = clinical_trials_reduced['Locations'].apply(lambda s: s.split(',')[-1].strip())"
   ]
  },
  {
   "cell_type": "code",
   "execution_count": 428,
   "id": "1167b4f2",
   "metadata": {},
   "outputs": [
    {
     "data": {
      "text/plain": [
       "array(['France', 'Colombia', 'San Marino', 'Hong Kong', 'Vietnam',\n",
       "       'United States', 'India', 'Israel', 'Chile', 'Italy',\n",
       "       'United Kingdom', 'United Arab Emirates', 'Norway', 'Brazil',\n",
       "       'Bangladesh', 'Denmark', 'Spain', 'Switzerland', 'Finland',\n",
       "       'Poland', 'Egypt', 'Turkey', 'Indonesia', 'Canada', 'Belgium',\n",
       "       'Pakistan', 'Sweden', 'Hungary', 'Albania', 'Sudan', 'Nigeria',\n",
       "       'Slovenia', 'Islamic Republic of', 'Martinique', 'Portugal',\n",
       "       'Republic of', 'Germany', 'Thailand', 'Japan', 'Argentina',\n",
       "       'Zambia', 'China', 'Mexico', 'Singapore', 'Costa Rica',\n",
       "       'Philippines', 'Belarus', 'Saudi Arabia', 'Czechia', 'Peru',\n",
       "       'Netherlands', 'Greece', 'Mongolia', 'Taiwan', 'Tunisia',\n",
       "       'Russian Federation', 'Puerto Rico', 'Iceland', 'Australia',\n",
       "       'Slovakia', 'Ecuador', 'South Africa', 'Kenya', 'Malaysia', 'Mali',\n",
       "       'Croatia', 'Luxembourg', 'Kuwait', 'Paraguay', 'North Macedonia',\n",
       "       'Monaco', 'Austria', 'French Guiana', 'Qatar', 'Venezuela',\n",
       "       'The Democratic Republic of the', 'Jordan', 'Algeria',\n",
       "       'Guinea-Bissau', 'South Sudan', 'Romania', 'Gambia', 'Oman',\n",
       "       'Uganda', 'Bahrain', 'Ukraine', 'Bolivia', 'Honduras',\n",
       "       'Kazakhstan', 'New Caledonia', 'Zimbabwe', 'Azerbaijan',\n",
       "       'Ethiopia', 'Kyrgyzstan', 'New Zealand', 'Dominican Republic',\n",
       "       'Ireland', 'Nepal', 'Mozambique', 'Iraq', 'Senegal', 'Cameroon',\n",
       "       'Bosnia and Herzegovina', 'Lebanon', 'Cape Verde', \"Côte D'Ivoire\",\n",
       "       'Guinea', 'Réunion', 'Jamaica', 'Uruguay', 'Uzbekistan', 'Rwanda',\n",
       "       'Bulgaria', 'Cambodia', 'Burkina Faso', 'Ghana', 'Cyprus',\n",
       "       'Lithuania', 'Barbados'], dtype=object)"
      ]
     },
     "execution_count": 428,
     "metadata": {},
     "output_type": "execute_result"
    }
   ],
   "source": [
    "clinical_trials_reduced['Country'].unique()"
   ]
  },
  {
   "cell_type": "code",
   "execution_count": 429,
   "id": "d8380722",
   "metadata": {},
   "outputs": [],
   "source": [
    "clinical_trials_reduced.drop(['Locations'], axis=1, inplace=True)"
   ]
  },
  {
   "cell_type": "markdown",
   "id": "1d4123da",
   "metadata": {},
   "source": [
    "## 5. Insights"
   ]
  },
  {
   "cell_type": "code",
   "execution_count": 336,
   "id": "e5871c0f",
   "metadata": {},
   "outputs": [],
   "source": [
    "import matplotlib.pyplot as plt"
   ]
  },
  {
   "cell_type": "markdown",
   "id": "c3e98bc0",
   "metadata": {},
   "source": [
    "### Trials per country"
   ]
  },
  {
   "cell_type": "code",
   "execution_count": 337,
   "id": "50671ca5",
   "metadata": {},
   "outputs": [
    {
     "data": {
      "text/html": [
       "<div>\n",
       "<style scoped>\n",
       "    .dataframe tbody tr th:only-of-type {\n",
       "        vertical-align: middle;\n",
       "    }\n",
       "\n",
       "    .dataframe tbody tr th {\n",
       "        vertical-align: top;\n",
       "    }\n",
       "\n",
       "    .dataframe thead th {\n",
       "        text-align: right;\n",
       "    }\n",
       "</style>\n",
       "<table border=\"1\" class=\"dataframe\">\n",
       "  <thead>\n",
       "    <tr style=\"text-align: right;\">\n",
       "      <th></th>\n",
       "      <th>Country</th>\n",
       "      <th>Percentage</th>\n",
       "    </tr>\n",
       "  </thead>\n",
       "  <tbody>\n",
       "    <tr>\n",
       "      <th>0</th>\n",
       "      <td>Italy</td>\n",
       "      <td>234</td>\n",
       "    </tr>\n",
       "    <tr>\n",
       "      <th>1</th>\n",
       "      <td>Spain</td>\n",
       "      <td>234</td>\n",
       "    </tr>\n",
       "    <tr>\n",
       "      <th>2</th>\n",
       "      <td>United Kingdom</td>\n",
       "      <td>305</td>\n",
       "    </tr>\n",
       "    <tr>\n",
       "      <th>3</th>\n",
       "      <td>France</td>\n",
       "      <td>646</td>\n",
       "    </tr>\n",
       "    <tr>\n",
       "      <th>4</th>\n",
       "      <td>United States</td>\n",
       "      <td>1250</td>\n",
       "    </tr>\n",
       "    <tr>\n",
       "      <th>5</th>\n",
       "      <td>Others</td>\n",
       "      <td>5176</td>\n",
       "    </tr>\n",
       "  </tbody>\n",
       "</table>\n",
       "</div>"
      ],
      "text/plain": [
       "          Country  Percentage\n",
       "0           Italy         234\n",
       "1           Spain         234\n",
       "2  United Kingdom         305\n",
       "3          France         646\n",
       "4   United States        1250\n",
       "5          Others        5176"
      ]
     },
     "execution_count": 337,
     "metadata": {},
     "output_type": "execute_result"
    }
   ],
   "source": [
    "results_by_country = clinical_trials_reduced.groupby(by=['Country'])['NCT Number'].count().sort_values()\n",
    "results_by_country_percentage = clinical_trials_reduced.groupby(by=['Country'])['NCT Number'].count().sort_values()\n",
    "results_by_country_percentage = results_by_country_percentage.reset_index()\n",
    "results_by_country_percentage.rename(columns={'NCT Number': 'Percentage'},inplace=True)\n",
    "mask_under = results_by_country_percentage['Percentage'] < 0.045\n",
    "mask_over = results_by_country_percentage['Percentage'] >= 0.045\n",
    "others_percentage = results_by_country_percentage[mask_over].sum()[1]\n",
    "results_by_country_percentage_reduced = results_by_country_percentage[-5:].reset_index(drop=True)\n",
    "results_by_country_percentage_reduced = results_by_country_percentage_reduced.append({'Country': 'Others', 'Percentage': others_percentage},ignore_index=True)\n",
    "results_by_country_percentage_reduced"
   ]
  },
  {
   "cell_type": "code",
   "execution_count": 338,
   "id": "e316aa25",
   "metadata": {},
   "outputs": [
    {
     "name": "stderr",
     "output_type": "stream",
     "text": [
      "/var/folders/j1/v9nyz79d7v7f5yww68cxr6tr0000gn/T/ipykernel_1481/3981604409.py:6: UserWarning: FixedFormatter should only be used together with FixedLocator\n",
      "  ax[0].set_xticklabels(results_by_country.index[-10:],rotation=90, ha='right')\n"
     ]
    },
    {
     "data": {
      "text/plain": [
       "Text(0.5, 1.0, 'Percetage of \\n trials / country')"
      ]
     },
     "execution_count": 338,
     "metadata": {},
     "output_type": "execute_result"
    },
    {
     "data": {
      "image/png": "[encoded data removed]",
      "text/plain": [
       "<Figure size 864x288 with 2 Axes>"
      ]
     },
     "metadata": {
      "needs_background": "light"
     },
     "output_type": "display_data"
    }
   ],
   "source": [
    "fig, ax = plt.subplots(1,2, figsize=(12,4))\n",
    "\n",
    "ax[0].bar(results_by_country.index[-10:], results_by_country[-10:])\n",
    "ax[0].set_ylabel('Number trials',fontsize=16)\n",
    "ax[0].set_xlabel('Country',fontsize=16)\n",
    "ax[0].set_xticklabels(results_by_country.index[-10:],rotation=90, ha='right')\n",
    "explode = (0.1,0.1,0.1,0.1, 0.25, 0.25)\n",
    "ax[1].pie(results_by_country_percentage_reduced['Percentage'], \\\n",
    "          labels=results_by_country_percentage_reduced['Country'],\\\n",
    "          autopct='%.d%%', explode=explode, shadow=True, startangle=90)\n",
    "ax[1].axis('equal')\n",
    "ax[1].set_title('Percetage of \\n trials / country', fontsize=16)\n"
   ]
  },
  {
   "cell_type": "markdown",
   "id": "003b9b9a",
   "metadata": {},
   "source": [
    "Conclusion: 50% of the COVID-19 clinical trials were performed in 5 countries: US, France, UK, Spain and Italy."
   ]
  },
  {
   "cell_type": "markdown",
   "id": "fc738b92",
   "metadata": {},
   "source": [
    "### Trials per Age"
   ]
  },
  {
   "cell_type": "code",
   "execution_count": 339,
   "id": "63c9ed1f",
   "metadata": {},
   "outputs": [
    {
     "data": {
      "text/html": [
       "<div>\n",
       "<style scoped>\n",
       "    .dataframe tbody tr th:only-of-type {\n",
       "        vertical-align: middle;\n",
       "    }\n",
       "\n",
       "    .dataframe tbody tr th {\n",
       "        vertical-align: top;\n",
       "    }\n",
       "\n",
       "    .dataframe thead th {\n",
       "        text-align: right;\n",
       "    }\n",
       "</style>\n",
       "<table border=\"1\" class=\"dataframe\">\n",
       "  <thead>\n",
       "    <tr style=\"text-align: right;\">\n",
       "      <th></th>\n",
       "      <th>Age</th>\n",
       "      <th>NCT Number</th>\n",
       "    </tr>\n",
       "  </thead>\n",
       "  <tbody>\n",
       "    <tr>\n",
       "      <th>0</th>\n",
       "      <td>Older Adult</td>\n",
       "      <td>67</td>\n",
       "    </tr>\n",
       "    <tr>\n",
       "      <th>1</th>\n",
       "      <td>Child</td>\n",
       "      <td>90</td>\n",
       "    </tr>\n",
       "    <tr>\n",
       "      <th>2</th>\n",
       "      <td>Child, Adult</td>\n",
       "      <td>92</td>\n",
       "    </tr>\n",
       "    <tr>\n",
       "      <th>3</th>\n",
       "      <td>Adult</td>\n",
       "      <td>304</td>\n",
       "    </tr>\n",
       "    <tr>\n",
       "      <th>4</th>\n",
       "      <td>Child, Adult, Older Adult</td>\n",
       "      <td>721</td>\n",
       "    </tr>\n",
       "    <tr>\n",
       "      <th>5</th>\n",
       "      <td>Adult, Older Adult</td>\n",
       "      <td>3902</td>\n",
       "    </tr>\n",
       "  </tbody>\n",
       "</table>\n",
       "</div>"
      ],
      "text/plain": [
       "                         Age  NCT Number\n",
       "0                Older Adult          67\n",
       "1                      Child          90\n",
       "2               Child, Adult          92\n",
       "3                      Adult         304\n",
       "4  Child, Adult, Older Adult         721\n",
       "5         Adult, Older Adult        3902"
      ]
     },
     "execution_count": 339,
     "metadata": {},
     "output_type": "execute_result"
    }
   ],
   "source": [
    "results_by_age = clinical_trials_reduced.groupby(by=['Age'])['NCT Number'].count().sort_values().reset_index()\n",
    "results_by_age"
   ]
  },
  {
   "cell_type": "code",
   "execution_count": 340,
   "id": "5a6d746c",
   "metadata": {},
   "outputs": [],
   "source": [
    "results_by_age.rename(columns={'NCT Number': 'Count'},inplace=True)"
   ]
  },
  {
   "cell_type": "code",
   "execution_count": 341,
   "id": "7c3093fb",
   "metadata": {},
   "outputs": [
    {
     "name": "stderr",
     "output_type": "stream",
     "text": [
      "/var/folders/j1/v9nyz79d7v7f5yww68cxr6tr0000gn/T/ipykernel_1481/3154254783.py:6: UserWarning: FixedFormatter should only be used together with FixedLocator\n",
      "  ax[0].set_xticklabels(results_by_age.Age,rotation=90, ha='right')\n"
     ]
    },
    {
     "data": {
      "image/png": "[encoded data removed]",
      "text/plain": [
       "<Figure size 864x288 with 2 Axes>"
      ]
     },
     "metadata": {
      "needs_background": "light"
     },
     "output_type": "display_data"
    }
   ],
   "source": [
    "fig, ax = plt.subplots(1,2, figsize=(12,4))\n",
    "\n",
    "ax[0].bar(results_by_age.Age, results_by_age['Count'])\n",
    "ax[0].set_ylabel('Number trials',fontsize=16)\n",
    "ax[0].set_xlabel('Age category',fontsize=16)\n",
    "ax[0].set_xticklabels(results_by_age.Age,rotation=90, ha='right')\n",
    "explode = (0.1,0.1,0.1,0.1, 0.1, 0.1)\n",
    "ax[1].pie(results_by_age['Count'], \\\n",
    "          labels=results_by_age['Age'],\\\n",
    "          autopct='%.d%%', explode=explode, shadow=True, startangle=335)\n",
    "ax[1].axis('equal')\n",
    "ax[1].set_title('Percentage of \\n trials / Age category', fontsize=16)\n",
    "\n",
    "fig.subplots_adjust(left=None, bottom=None, right=None, top=None, wspace=0.5, hspace=None)"
   ]
  },
  {
   "cell_type": "markdown",
   "id": "56e53894",
   "metadata": {},
   "source": [
    "Conclusions:\n",
    " - 89% of the clinical trials include older adults.\n",
    " - 81% of the clinical trials include adults.\n",
    " - 16% of the clinical trials include childreen."
   ]
  },
  {
   "cell_type": "markdown",
   "id": "788f2870",
   "metadata": {},
   "source": [
    "### Trials per Gender"
   ]
  },
  {
   "cell_type": "code",
   "execution_count": 357,
   "id": "8bb917d4",
   "metadata": {},
   "outputs": [
    {
     "data": {
      "text/plain": [
       "Index(['NCT Number', 'Status', 'Study Results', 'Gender', 'Age', 'Enrollment',\n",
       "       'Study Type', 'Start Date', 'Primary Completion Date',\n",
       "       'Completion Date', 'First Posted', 'Last Update Posted', 'Country',\n",
       "       'Enrollment_cat', 'completion_time'],\n",
       "      dtype='object')"
      ]
     },
     "execution_count": 357,
     "metadata": {},
     "output_type": "execute_result"
    }
   ],
   "source": [
    "clinical_trials_reduced.columns"
   ]
  },
  {
   "cell_type": "code",
   "execution_count": 342,
   "id": "b141803e",
   "metadata": {},
   "outputs": [
    {
     "data": {
      "text/html": [
       "<div>\n",
       "<style scoped>\n",
       "    .dataframe tbody tr th:only-of-type {\n",
       "        vertical-align: middle;\n",
       "    }\n",
       "\n",
       "    .dataframe tbody tr th {\n",
       "        vertical-align: top;\n",
       "    }\n",
       "\n",
       "    .dataframe thead th {\n",
       "        text-align: right;\n",
       "    }\n",
       "</style>\n",
       "<table border=\"1\" class=\"dataframe\">\n",
       "  <thead>\n",
       "    <tr style=\"text-align: right;\">\n",
       "      <th></th>\n",
       "      <th>Gender</th>\n",
       "      <th>Counts</th>\n",
       "    </tr>\n",
       "  </thead>\n",
       "  <tbody>\n",
       "    <tr>\n",
       "      <th>0</th>\n",
       "      <td>Male</td>\n",
       "      <td>42</td>\n",
       "    </tr>\n",
       "    <tr>\n",
       "      <th>1</th>\n",
       "      <td>Female</td>\n",
       "      <td>150</td>\n",
       "    </tr>\n",
       "    <tr>\n",
       "      <th>2</th>\n",
       "      <td>All</td>\n",
       "      <td>4984</td>\n",
       "    </tr>\n",
       "  </tbody>\n",
       "</table>\n",
       "</div>"
      ],
      "text/plain": [
       "   Gender  Counts\n",
       "0    Male      42\n",
       "1  Female     150\n",
       "2     All    4984"
      ]
     },
     "execution_count": 342,
     "metadata": {},
     "output_type": "execute_result"
    }
   ],
   "source": [
    "results_by_gender = clinical_trials_reduced.groupby(by=['Gender'])['NCT Number'].count().sort_values().reset_index()\n",
    "results_by_gender.rename(columns={'NCT Number': 'Counts'},inplace=True)\n",
    "results_by_gender"
   ]
  },
  {
   "cell_type": "code",
   "execution_count": 354,
   "id": "d1940e3b",
   "metadata": {},
   "outputs": [
    {
     "data": {
      "text/plain": [
       "0.9629057187017002"
      ]
     },
     "execution_count": 354,
     "metadata": {},
     "output_type": "execute_result"
    }
   ],
   "source": [
    "4984 / 5176"
   ]
  },
  {
   "cell_type": "markdown",
   "id": "7ff95b58",
   "metadata": {},
   "source": [
    "### Trials by Status"
   ]
  },
  {
   "cell_type": "code",
   "execution_count": 436,
   "id": "c03aa7a3",
   "metadata": {},
   "outputs": [],
   "source": [
    "results_by_status = clinical_trials_reduced.groupby(by=['Status'])['NCT Number'].count().sort_values().reset_index()\n",
    "results_by_status.rename(columns={'NCT Number': 'Count'},inplace=True)"
   ]
  },
  {
   "cell_type": "code",
   "execution_count": 476,
   "id": "476f91a2",
   "metadata": {},
   "outputs": [
    {
     "name": "stderr",
     "output_type": "stream",
     "text": [
      "/var/folders/j1/v9nyz79d7v7f5yww68cxr6tr0000gn/T/ipykernel_1481/376100264.py:6: UserWarning: FixedFormatter should only be used together with FixedLocator\n",
      "  ax[0].set_yticklabels(results_by_status.Status,rotation=0, ha='right')\n"
     ]
    },
    {
     "data": {
      "image/png": "[encoded data removed]",
      "text/plain": [
       "<Figure size 864x288 with 2 Axes>"
      ]
     },
     "metadata": {
      "needs_background": "light"
     },
     "output_type": "display_data"
    }
   ],
   "source": [
    "fig, ax = plt.subplots(1,2, figsize=(12,4))\n",
    "\n",
    "ax[0].barh(results_by_status.Status, results_by_status['Count'])\n",
    "ax[0].set_xlabel('Number trials',fontsize=16)\n",
    "ax[0].set_ylabel('Status',fontsize=16)\n",
    "ax[0].set_yticklabels(results_by_status.Status,rotation=0, ha='right')\n",
    "explode = (0,0,0,0,0,0)\n",
    "\n",
    "#the top 5\n",
    "results_by_status_reduced = results_by_status[-5:].copy()\n",
    "\n",
    "#others\n",
    "new_row = pd.DataFrame(data = {\n",
    "    'Status' : ['others'],\n",
    "    'Count' : [results_by_status['Count'][:3].sum()]\n",
    "})\n",
    "\n",
    "#combining top 5 with others\n",
    "results_by_status_reduced = pd.concat([results_by_status_reduced, new_row])\n",
    "ax[1].pie(results_by_status_reduced['Count'], \\\n",
    "          labels=results_by_status_reduced['Status'],\\\n",
    "          autopct='%.d%%', explode=explode, shadow=True, startangle=180)\n",
    "ax[1].axis('equal')\n",
    "ax[1].set_title('Status', fontsize=16)\n",
    "\n",
    "fig.subplots_adjust(left=None, bottom=None, right=None, top=None, wspace=0.5, hspace=None)"
   ]
  },
  {
   "cell_type": "markdown",
   "id": "219a333e",
   "metadata": {},
   "source": [
    "Conclusion: 19% of the clinical trials have status completed."
   ]
  },
  {
   "cell_type": "markdown",
   "id": "dcece8a1",
   "metadata": {},
   "source": [
    "### Enrollment information"
   ]
  },
  {
   "cell_type": "code",
   "execution_count": 343,
   "id": "363eb15a",
   "metadata": {},
   "outputs": [
    {
     "data": {
      "image/png": "[encoded data removed]",
      "text/plain": [
       "<Figure size 432x288 with 1 Axes>"
      ]
     },
     "metadata": {
      "needs_background": "light"
     },
     "output_type": "display_data"
    }
   ],
   "source": [
    "plt.hist(clinical_trials_reduced.Enrollment,range=(0,5000),bins=100)\n",
    "plt.ylabel('Number of clinical trials')\n",
    "plt.xlabel('Number of participants')\n",
    "plt.yscale('log')\n",
    "plt.show()"
   ]
  },
  {
   "cell_type": "code",
   "execution_count": 344,
   "id": "77b31098",
   "metadata": {},
   "outputs": [
    {
     "name": "stdout",
     "output_type": "stream",
     "text": [
      "Mean = 18958.0 \n",
      "Median = 176.0 \n",
      "Mode = 100.0\n"
     ]
    }
   ],
   "source": [
    "mean = clinical_trials_reduced.Enrollment.mean()\n",
    "median = clinical_trials_reduced.Enrollment.median()\n",
    "mode = clinical_trials_reduced.Enrollment.mode().iat[0]\n",
    "print(f'Mean = {round(mean,0)} \\nMedian = {round(median,0)} \\nMode = {round(mode,0)}')"
   ]
  },
  {
   "cell_type": "code",
   "execution_count": 345,
   "id": "4cb14487",
   "metadata": {},
   "outputs": [],
   "source": [
    "def calculate_ntrials(nmin,nmax):\n",
    "    return clinical_trials_reduced.Enrollment[(clinical_trials_reduced.Enrollment <= nmax) & (clinical_trials_reduced.Enrollment > nmin)].count()"
   ]
  },
  {
   "cell_type": "markdown",
   "id": "6677c59c",
   "metadata": {},
   "source": [
    "I am going to create categories based on the number of partipants enroleld in the trials: A, B, C, D, and E."
   ]
  },
  {
   "cell_type": "code",
   "execution_count": 346,
   "id": "809bb92b",
   "metadata": {},
   "outputs": [
    {
     "name": "stdout",
     "output_type": "stream",
     "text": [
      "Number of trias above 0 participants and below 50: 1080 (21.0%) category: A\n",
      "Number of trias above 50 participants and below 100: 904 (17.0%) category: B\n",
      "Number of trias above 100 participants and below 200: 836 (16.0%) category: C\n",
      "Number of trias above 200 participants and below 1000: 1463 (28.0%) category: D\n",
      "Number of trias above 1000 participants and below 20000000: 827 (16.0%) category: E\n"
     ]
    }
   ],
   "source": [
    "nmins = [0,50,100,200,1000]\n",
    "nmaxs = [50,100,200,1000,int(clinical_trials_reduced.Enrollment.max())]\n",
    "categories = ['A','B','C','D','E']\n",
    "total = 5176\n",
    "for nmin,nmax,cat in zip(nmins,nmaxs,categories):\n",
    "    n = calculate_ntrials(nmin,nmax)\n",
    "    print(f\"Number of trias above {nmin} participants and below {nmax}: {n} ({round(n/total*100,0)}%) category: {cat}\")"
   ]
  },
  {
   "cell_type": "markdown",
   "id": "cb93cf51",
   "metadata": {},
   "source": [
    "Conclusion: 43% of the clinical trials were performed with 100 or less participants."
   ]
  },
  {
   "cell_type": "code",
   "execution_count": 347,
   "id": "879ce735",
   "metadata": {},
   "outputs": [],
   "source": [
    "def get_category(n):\n",
    "    nmins = [0,50,100,200,1000]\n",
    "    nmaxs = [50,100,200,1000,int(clinical_trials_reduced.Enrollment.max())]\n",
    "    categories = ['A','B','C','D','E']\n",
    "    for i in range(5):\n",
    "        if n <= nmaxs[i] and n>nmins[i]:\n",
    "            return categories[i]\n",
    "\n",
    "clinical_trials_reduced['Enrollment_cat'] = clinical_trials_reduced.Enrollment.apply(lambda n: get_category(n))"
   ]
  },
  {
   "cell_type": "markdown",
   "id": "f532a007",
   "metadata": {},
   "source": [
    "### Investigation of time information about the trials"
   ]
  },
  {
   "cell_type": "markdown",
   "id": "61410ba6",
   "metadata": {},
   "source": [
    "I want to check how long does it take for a clinical trial to end and if it depends on the number of participants."
   ]
  },
  {
   "cell_type": "code",
   "execution_count": 348,
   "id": "76c3f56f",
   "metadata": {},
   "outputs": [
    {
     "data": {
      "text/plain": [
       "Index(['NCT Number', 'Status', 'Study Results', 'Gender', 'Age', 'Enrollment',\n",
       "       'Study Type', 'Start Date', 'Primary Completion Date',\n",
       "       'Completion Date', 'First Posted', 'Last Update Posted', 'Country',\n",
       "       'Enrollment_cat', 'completion_time'],\n",
       "      dtype='object')"
      ]
     },
     "execution_count": 348,
     "metadata": {},
     "output_type": "execute_result"
    }
   ],
   "source": [
    "clinical_trials_reduced.columns"
   ]
  },
  {
   "cell_type": "code",
   "execution_count": 349,
   "id": "09fabdb5",
   "metadata": {},
   "outputs": [
    {
     "data": {
      "text/plain": [
       "Index(['NCT Number', 'Status', 'Study Results', 'Gender', 'Age', 'Enrollment',\n",
       "       'Study Type', 'Start Date', 'Primary Completion Date',\n",
       "       'Completion Date', 'First Posted', 'Last Update Posted', 'Country',\n",
       "       'Enrollment_cat', 'completion_time'],\n",
       "      dtype='object')"
      ]
     },
     "execution_count": 349,
     "metadata": {},
     "output_type": "execute_result"
    }
   ],
   "source": [
    "clinical_trials_reduced.columns"
   ]
  },
  {
   "cell_type": "code",
   "execution_count": 350,
   "id": "2292b17a",
   "metadata": {},
   "outputs": [],
   "source": [
    "clinical_trials_reduced['completion_time'] = (clinical_trials_reduced['Completion Date'] - clinical_trials_reduced['Start Date'])/ np.timedelta64(1, 'M')"
   ]
  },
  {
   "cell_type": "code",
   "execution_count": 351,
   "id": "ddffde69",
   "metadata": {},
   "outputs": [
    {
     "name": "stdout",
     "output_type": "stream",
     "text": [
      "Average time to complete a trial is 13.9 months\n"
     ]
    }
   ],
   "source": [
    "average_time_complete_trial = round(clinical_trials_reduced['completion_time'].mean(),1)\n",
    "print(f'Average time to complete a trial is {average_time_complete_trial} months')"
   ]
  },
  {
   "cell_type": "code",
   "execution_count": 352,
   "id": "91274c26",
   "metadata": {
    "scrolled": true
   },
   "outputs": [
    {
     "name": "stdout",
     "output_type": "stream",
     "text": [
      "  Enrollment_cat  Average completion time (months)\n",
      "0              A                          9.555113\n",
      "1              B                         11.550454\n",
      "2              C                         13.326546\n",
      "3              D                         15.761788\n",
      "4              E                         19.819878\n"
     ]
    }
   ],
   "source": [
    "completion_time_per_category = clinical_trials_reduced.groupby(by='Enrollment_cat')['completion_time'].mean().reset_index()\n",
    "completion_time_per_category.rename(columns={'completion_time':'Average completion time (months)'},inplace=True)\n",
    "print(completion_time_per_category)"
   ]
  },
  {
   "cell_type": "markdown",
   "id": "05dfa8d5",
   "metadata": {},
   "source": [
    "Conclusion: On average, clinical trials with 50 or less participats take 9.6 months to complete. The more people paticipating on the clinical trials, the longer it takes to complete."
   ]
  },
  {
   "cell_type": "markdown",
   "id": "1d7bb361",
   "metadata": {},
   "source": [
    "## Summary"
   ]
  },
  {
   "cell_type": "markdown",
   "id": "f2632d00",
   "metadata": {},
   "source": [
    "We observed that:\n",
    " - 50% of the COVID-19 clinical trials were performed in 5 countries: US, France, UK, Spain and Italy.\n",
    " - 89% of the clinical trials include older adults.\n",
    " - 81% of the clinical trials include adults.\n",
    " - 16% of the clinical trials include childreen.\n",
    " - 19% of the clinical trials have status completed.\n",
    " - 96% of the clinical trials were performed with both male and female participants.\n",
    " - 43% of the clinical trials were performed with 100 or less participants\n",
    " - On average, clinical trials with 50 or less participats take 9.6 months to complete. The more people paticipating on the clinical trials, the longer it takes to complete."
   ]
  },
  {
   "cell_type": "code",
   "execution_count": null,
   "id": "a5e97f19",
   "metadata": {},
   "outputs": [],
   "source": []
  }
 ],
 "metadata": {
  "kernelspec": {
   "display_name": "Python 3 (ipykernel)",
   "language": "python",
   "name": "python3"
  },
  "language_info": {
   "codemirror_mode": {
    "name": "ipython",
    "version": 3
   },
   "file_extension": ".py",
   "mimetype": "text/x-python",
   "name": "python",
   "nbconvert_exporter": "python",
   "pygments_lexer": "ipython3",
   "version": "3.8.5"
  }
 },
 "nbformat": 4,
 "nbformat_minor": 5
}
